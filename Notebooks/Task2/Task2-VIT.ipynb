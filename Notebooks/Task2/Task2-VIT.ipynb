{
  "cells": [
    {
      "cell_type": "code",
      "execution_count": null,
      "metadata": {
        "id": "fhmMc-XomZkD"
      },
      "outputs": [],
      "source": [
        "!pip install timm clip deeplake"
      ]
    },
    {
      "cell_type": "code",
      "execution_count": 11,
      "metadata": {
        "id": "w4Wt491B3UKC"
      },
      "outputs": [],
      "source": [
        "PATH = 'drive/MyDrive/ATML/PA1'"
      ]
    },
    {
      "cell_type": "code",
      "execution_count": null,
      "metadata": {
        "colab": {
          "base_uri": "https://localhost:8080/"
        },
        "id": "L04fAbD_EQBR",
        "outputId": "8779daae-3b49-48b1-9974-f16d6d243e76"
      },
      "outputs": [
        {
          "name": "stdout",
          "output_type": "stream",
          "text": [
            "/usr/local/lib/python3.10/dist-packages/torchvision/transforms/v2/_deprecated.py:42: UserWarning: The transform `ToTensor()` is deprecated and will be removed in a future release. Instead, please use `v2.Compose([v2.ToImage(), v2.ToDtype(torch.float32, scale=True)])`.Output is equivalent up to float precision.\n",
            "  warnings.warn(\n",
            "Files already downloaded and verified\n",
            "Files already downloaded and verified\n",
            "\n",
            "Finetuning vit_small_16 with 0.385M params for 5 epochs on cuda...\n",
            "\n",
            "Training: [1563/1563] Loss: 1.2724 Acc: 0.7342\n",
            "Evaluation: [313/313] Loss: 0.2022 Acc: 0.9384\n",
            "============ Epoch 1 --> Train Acc: 0.7342 || Test Acc: 0.9384 || Time: 219.14 s ============\n",
            "\n",
            "Training: [1563/1563] Loss: 0.2878 Acc: 0.9060\n",
            "Evaluation: [313/313] Loss: 0.1528 Acc: 0.9518\n",
            "============ Epoch 2 --> Train Acc: 0.9060 || Test Acc: 0.9518 || Time: 217.70 s ============\n",
            "\n",
            "Training: [1563/1563] Loss: 0.2497 Acc: 0.9171\n",
            "Evaluation: [313/313] Loss: 0.1386 Acc: 0.9549\n",
            "============ Epoch 3 --> Train Acc: 0.9171 || Test Acc: 0.9549 || Time: 222.73 s ============\n",
            "\n",
            "Training: [1563/1563] Loss: 0.2306 Acc: 0.9219\n",
            "Evaluation: [313/313] Loss: 0.1310 Acc: 0.9567\n",
            "============ Epoch 4 --> Train Acc: 0.9219 || Test Acc: 0.9567 || Time: 226.92 s ============\n",
            "\n",
            "Training: [1563/1563] Loss: 0.2217 Acc: 0.9254\n",
            "Evaluation: [313/313] Loss: 0.1264 Acc: 0.9595\n",
            "============ Epoch 5 --> Train Acc: 0.9254 || Test Acc: 0.9595 || Time: 217.72 s ============\n",
            "\n",
            "Epochs: 100% 5/5 [18:24<00:00, 220.84s/it]\n",
            "Figure(1200x600)\n"
          ]
        }
      ],
      "source": [
        "!python3 drive/MyDrive/ATML/PA1/train_vit.py --model 'vit_small_16' --out_dir 'drive/MyDrive/ATML/PA1' --dataset 'CIFAR-10' --epochs 5"
      ]
    }
  ],
  "metadata": {
    "accelerator": "GPU",
    "colab": {
      "gpuType": "T4",
      "provenance": []
    },
    "kernelspec": {
      "display_name": "Python 3",
      "name": "python3"
    },
    "language_info": {
      "name": "python"
    }
  },
  "nbformat": 4,
  "nbformat_minor": 0
}
